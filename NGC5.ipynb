{
 "cells": [
  {
   "cell_type": "code",
   "execution_count": null,
   "metadata": {},
   "outputs": [],
   "source": [
    "create table customer(\n",
    "\tcustomer_id serial primary key,\n",
    "\tcustomer_name varchar,\n",
    "\tcity varchar\n",
    ");\n",
    "\n",
    "insert into customer(customer_name, city)\n",
    "values ('John Doe', 'New York'),\n",
    "\t\t('Jane Smith', 'Los Angeles'),\n",
    "\t\t('David Johnson', 'Chicago');\n",
    "\n",
    "create table orders(\n",
    "\torder_id serial primary key,\n",
    "\tcustomer_id integer,\n",
    "\torder_date date,\n",
    "\ttotal_amount numeric,\n",
    "\tforeign key (customer_id)\n",
    "\t\treferences customer(customer_id)\n",
    ");\n",
    "\n",
    "insert into orders(customer_id, order_date, total_amount)\n",
    "values (1,'2022-01-20', 100.00),\n",
    "\t\t(1,'2022-02-15', 150.00),\n",
    "\t\t(2,'2022-03-20', 200.00),\n",
    "\t\t(3,'2022-04-25', 50.00);\n",
    "\n",
    "\n",
    "select customer_name  \n",
    "from customer;\n",
    "\n"
   ]
  }
 ],
 "metadata": {
  "language_info": {
   "name": "python"
  }
 },
 "nbformat": 4,
 "nbformat_minor": 2
}
